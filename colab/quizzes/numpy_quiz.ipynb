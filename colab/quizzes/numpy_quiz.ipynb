{
 "cells": [
  {
   "attachments": {},
   "cell_type": "markdown",
   "metadata": {},
   "source": [
    "# Numpyの確認課題"
   ]
  },
  {
   "attachments": {},
   "cell_type": "markdown",
   "metadata": {},
   "source": [
    "## 必要モジュールのインポート\n",
    "\n",
    "この問題で使うモジュールをインポートします．"
   ]
  },
  {
   "cell_type": "code",
   "execution_count": null,
   "metadata": {},
   "outputs": [],
   "source": [
    "import matplotlib.pyplot as plt\n",
    "import numpy as np\n",
    "\n",
    "np.random.seed(0)"
   ]
  },
  {
   "attachments": {},
   "cell_type": "markdown",
   "metadata": {},
   "source": [
    "---"
   ]
  },
  {
   "attachments": {},
   "cell_type": "markdown",
   "metadata": {},
   "source": [
    "### 問1. `ndarray`の生成\n",
    "\n",
    "以下の2つの`ndarray`を定義しなさい．\n",
    "- 観測値 `x`: 初項`0`，末項`5`，項数`100`の等差数列\n",
    "- ノイズ `noise`: 標準正規分布に従う`100`個の乱数"
   ]
  },
  {
   "cell_type": "code",
   "execution_count": null,
   "metadata": {},
   "outputs": [],
   "source": [
    "x = np.linspace(0,5,100)\n",
    "noise = np.random.randn(100)"
   ]
  },
  {
   "attachments": {},
   "cell_type": "markdown",
   "metadata": {},
   "source": [
    "---"
   ]
  },
  {
   "attachments": {},
   "cell_type": "markdown",
   "metadata": {},
   "source": [
    "ここで，真の関数 $y(x) = 3 - 5x + x^2$ を定義します．"
   ]
  },
  {
   "cell_type": "code",
   "execution_count": null,
   "metadata": {},
   "outputs": [],
   "source": [
    "def y(x):\n",
    "    \"\"\"真の関数\"\"\"\n",
    "    return 3 - 5 * x + x ** 2"
   ]
  },
  {
   "attachments": {},
   "cell_type": "markdown",
   "metadata": {},
   "source": [
    "### 問2． `ndarray`の操作\n",
    "\n",
    "問1で生成した観測値 `x` に対応する目標値 `t` を定義しなさい．\n",
    "\n",
    "目標値 $t$ は， $t = y(x) + \\epsilon$ と表されます．  ( $y$: 真の関数, $\\epsilon$: ノイズ )  \n",
    "実際の観測値にはどうしてもノイズ(観測誤差)が発生してしまいます．今回は，それを`noise`で再現します．\n",
    "\n",
    "問1で観測値を100個生成したので，それぞれに対応する目標値も100個作成する必要がありますが， `for` 文は絶対使ってはいけません．"
   ]
  },
  {
   "cell_type": "code",
   "execution_count": null,
   "metadata": {},
   "outputs": [],
   "source": [
    "t = y(x) + noise"
   ]
  },
  {
   "attachments": {},
   "cell_type": "markdown",
   "metadata": {},
   "source": [
    "matplotlib で可視化すると以下のようなグラフになります．\n",
    "scatter → 散布図"
   ]
  },
  {
   "cell_type": "code",
   "execution_count": null,
   "metadata": {},
   "outputs": [],
   "source": [
    "data:image/png;base64,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"
   ]
  },
  {
   "cell_type": "code",
   "execution_count": null,
   "metadata": {},
   "outputs": [],
   "source": [
    "plt.scatter(x, t)"
   ]
  },
  {
   "attachments": {},
   "cell_type": "markdown",
   "metadata": {},
   "source": [
    "---"
   ]
  },
  {
   "attachments": {},
   "cell_type": "markdown",
   "metadata": {},
   "source": [
    "### 問3. `ndarray`の結合\n",
    "\n",
    "以下の3つの`ndarray`を垂直方向に結合した2次元配列を転置した行列 `X` を定義しなさい．\n",
    "\n",
    "- x0: 長さが `x` と同じで要素が全て1の`ndarray`\n",
    "- x1: 観測値 `x` の各要素を1乗した`ndarray`\n",
    "- x2: 観測値 `x` の各要素を2乗した`ndarray`\n",
    "\n",
    "例： $x = (1, 2, 3)$ のとき，\n",
    "\n",
    "$$\n",
    "x_0 = (1, 1, 1)\\\\\n",
    "x_1 = (1, 2, 3)\\\\\n",
    "x_2 = (1, 4, 9)\n",
    "$$\n",
    "\n",
    "だから，\n",
    "\n",
    "$$\n",
    "X = \\left(\n",
    "\\begin{array}{ccc}\n",
    "    1 & 1 & 1 \\\\\n",
    "    1 & 2 & 3 \\\\\n",
    "    1 & 4 & 9\n",
    "\\end{array}\n",
    "\\right)^T\n",
    "= \\left(\n",
    "\\begin{array}{ccc}\n",
    "    1 & 1 & 1 \\\\\n",
    "    1 & 2 & 4 \\\\\n",
    "    1 & 3 & 9\n",
    "\\end{array}\n",
    "\\right)\n",
    "$$\n",
    "\n",
    "ちなみに，機械学習では `X` のような行列を計画行列と呼びます．"
   ]
  },
  {
   "cell_type": "code",
   "execution_count": null,
   "metadata": {},
   "outputs": [],
   "source": [
    "x_0 = np.ones(len(x))\n",
    "x_1 = x ** 1\n",
    "x_2 = x ** 2\n",
    "X = np.vstack([x_0, x_1, x_2]).T"
   ]
  },
  {
   "attachments": {},
   "cell_type": "markdown",
   "metadata": {},
   "source": [
    "---"
   ]
  },
  {
   "attachments": {},
   "cell_type": "markdown",
   "metadata": {},
   "source": [
    "### 問4. 線形代数\n",
    "\n",
    "観測値 `x, t` をもとに真の関数 `y` を2次関数で回帰しなさい．\n",
    "\n",
    "任意の2次関数は $y(x) = w_0 + w_1 x + w_2 x^2$ と表すことができます．  \n",
    "なので，パラメータのベクトル $\\mathbf{w} = (w_0, w_1, w_2)$ を求めれば良いことになります．\n",
    "\n",
    "これは以下の正規方程式から求めることができます．\n",
    "\n",
    "$ \\mathbf{w} = (X^T X)^{-1} X^T \\mathbf{t} $\n",
    "\n",
    "この式の導出はdev_data勉強会で学びます．\n",
    "\n",
    "行列の積が多い場合は`np.dot`を使わない方が簡潔に書けます．"
   ]
  },
  {
   "cell_type": "code",
   "execution_count": null,
   "metadata": {},
   "outputs": [],
   "source": [
    "w0, w1, w2 = (np.linalg.inv(X.T @ X)) @ X.T @ t\n",
    "pred_y = w0 + w1 * x + w2 * x ** 2"
   ]
  },
  {
   "attachments": {},
   "cell_type": "markdown",
   "metadata": {},
   "source": [
    "---"
   ]
  },
  {
   "attachments": {},
   "cell_type": "markdown",
   "metadata": {},
   "source": [
    "### 結果\n",
    "\n",
    "先ほどのグラフに真の関数(緑)と回帰曲線(赤)を重ねると以下のようになります．"
   ]
  },
  {
   "cell_type": "code",
   "execution_count": null,
   "metadata": {},
   "outputs": [],
   "source": [
    "plt.scatter(x, t)\n",
    "plt.plot(x, pred_y, linewidth=5, color=\"red\", label=\"pred\")\n",
    "plt.plot(x, y(x), linewidth=5, color=\"green\", label=\"true\")\n",
    "plt.legend()"
   ]
  },
  {
   "attachments": {},
   "cell_type": "markdown",
   "metadata": {},
   "source": [
    "今回使った手法は 真の関数 `y` の定義を変更するとその他のコードを全く変更しなくても同様に回帰することができます．\n",
    "\n",
    "例えば以下のように変更したらその関数を回帰します．\n",
    "\n",
    "```python\n",
    "def y(x):\n",
    "    \"\"\"真の関数\"\"\"\n",
    "    return 5 * np.sin(np.pi * x / 5)\n",
    "```\n",
    "dev_data勉強会で詳しくやりますが，この回帰曲線の表現力は2次までです．\n",
    "カーブが2つ以上の曲線を回帰したい場合は問3の計画行列の列数を　`x3, x4...`　のように増やせば表現力が上がります．"
   ]
  },
  {
   "cell_type": "code",
   "execution_count": null,
   "metadata": {},
   "outputs": [],
   "source": []
  }
 ],
 "metadata": {
  "kernelspec": {
   "display_name": "Python 3",
   "language": "python",
   "name": "python3"
  },
  "language_info": {
   "codemirror_mode": {
    "name": "ipython",
    "version": 3
   },
   "file_extension": ".py",
   "mimetype": "text/x-python",
   "name": "python",
   "nbconvert_exporter": "python",
   "pygments_lexer": "ipython3",
   "version": "3.7.4"
  }
 },
 "nbformat": 4,
 "nbformat_minor": 4
}
